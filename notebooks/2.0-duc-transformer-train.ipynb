{
 "cells": [
  {
   "cell_type": "code",
   "execution_count": 4,
   "id": "3b2c12bd-2314-4ad8-a381-3f0e36f84bd0",
   "metadata": {},
   "outputs": [
    {
     "name": "stdout",
     "output_type": "stream",
     "text": [
      "The autoreload extension is already loaded. To reload it, use:\n",
      "  %reload_ext autoreload\n"
     ]
    }
   ],
   "source": [
    "%load_ext autoreload\n",
    "%autoreload 2\n",
    "import itertools\n",
    "import math\n",
    "\n",
    "import torch\n",
    "from torch import nn, Tensor\n",
    "import torch.nn.functional as F\n",
    "import pytorch_lightning as pl\n",
    "from pytorch_lightning.callbacks import ModelCheckpoint, LearningRateMonitor\n",
    "from pytorch_lightning.callbacks.early_stopping import EarlyStopping\n",
    "from pytorch_lightning.loggers import TensorBoardLogger\n",
    "\n",
    "import clip\n",
    "from transformers import BertTokenizer, BertModel\n",
    "\n",
    "from src.data.diffusion_db_module import DiffusionDBModule\n",
    "from src.models.transformer import TransformerImg2Prompt"
   ]
  },
  {
   "cell_type": "code",
   "execution_count": 2,
   "id": "6f6a6c83-56b7-41db-9471-26b1cadae5a4",
   "metadata": {},
   "outputs": [
    {
     "name": "stderr",
     "output_type": "stream",
     "text": [
      "Some weights of the model checkpoint at bert-base-uncased were not used when initializing BertModel: ['cls.predictions.transform.LayerNorm.bias', 'cls.seq_relationship.weight', 'cls.predictions.bias', 'cls.predictions.transform.dense.bias', 'cls.seq_relationship.bias', 'cls.predictions.transform.dense.weight', 'cls.predictions.decoder.weight', 'cls.predictions.transform.LayerNorm.weight']\n",
      "- This IS expected if you are initializing BertModel from the checkpoint of a model trained on another task or with another architecture (e.g. initializing a BertForSequenceClassification model from a BertForPreTraining model).\n",
      "- This IS NOT expected if you are initializing BertModel from the checkpoint of a model that you expect to be exactly identical (initializing a BertForSequenceClassification model from a BertForSequenceClassification model).\n",
      "Found cached dataset diffusiondb (/home/minhduc0711/.cache/huggingface/datasets/poloclub___diffusiondb/large_first_1k/0.9.1/547894e3a57aa647ead68c9faf148324098f47f2bc1ab6705d670721de9d89d1)\n",
      "100%|█████████████████████████████████████████████████████████████████████████████████████████████████████| 1/1 [00:00<00:00, 227.08it/s]\n"
     ]
    }
   ],
   "source": [
    "# Load the pretrained models\n",
    "clip_model, preprocess = clip.load(\"ViT-B/32\")\n",
    "# For some reason, the weights in the CLIP model are automatically converted\n",
    "# to float16. We convert it back to float32\n",
    "clip_model = clip_model.float()\n",
    "\n",
    "bert_tokenizer = BertTokenizer.from_pretrained('bert-base-uncased')\n",
    "bert_model = BertModel.from_pretrained('bert-base-uncased')\n",
    "\n",
    "# Load the dataset\n",
    "dm = DiffusionDBModule(batch_size=4,\n",
    "                       subset_name=\"large_first_1k\",\n",
    "                       img_transform=preprocess,\n",
    "                       bert_tokenizer=bert_tokenizer)\n",
    "dm.setup(\"train\")"
   ]
  },
  {
   "cell_type": "code",
   "execution_count": 7,
   "id": "7bccbea1-3e7c-4259-b797-a9d98d456152",
   "metadata": {},
   "outputs": [
    {
     "name": "stderr",
     "output_type": "stream",
     "text": [
      "GPU available: False, used: False\n",
      "TPU available: False, using: 0 TPU cores\n",
      "IPU available: False, using: 0 IPUs\n",
      "HPU available: False, using: 0 HPUs\n",
      "Found cached dataset diffusiondb (/home/minhduc0711/.cache/huggingface/datasets/poloclub___diffusiondb/large_first_1k/0.9.1/547894e3a57aa647ead68c9faf148324098f47f2bc1ab6705d670721de9d89d1)\n",
      "\n",
      "100%|█████████████████████████████████████████████████████████████████████████████████████████████████████| 1/1 [00:00<00:00, 210.29it/s]\u001b[A\n",
      "\n",
      "  | Name        | Type        | Params\n",
      "--------------------------------------------\n",
      "0 | clip_model  | CLIP        | 151 M \n",
      "1 | bert_model  | BertModel   | 109 M \n",
      "2 | transformer | Transformer | 54.8 M\n",
      "3 | fc_img      | Linear      | 393 K \n",
      "--------------------------------------------\n",
      "315 M     Trainable params\n",
      "0         Non-trainable params\n",
      "315 M     Total params\n",
      "1,263.888 Total estimated model params size (MB)\n"
     ]
    },
    {
     "name": "stdout",
     "output_type": "stream",
     "text": [
      "                                                                                                                                         "
     ]
    },
    {
     "name": "stderr",
     "output_type": "stream",
     "text": [
      "/home/minhduc0711/miniconda3/envs/diffusion/lib/python3.7/site-packages/pytorch_lightning/trainer/connectors/data_connector.py:229: PossibleUserWarning: The dataloader, train_dataloader, does not have many workers which may be a bottleneck. Consider increasing the value of the `num_workers` argument` (try 8 which is the number of cpus on this machine) in the `DataLoader` init to improve performance.\n",
      "  category=PossibleUserWarning,\n"
     ]
    },
    {
     "name": "stdout",
     "output_type": "stream",
     "text": [
      "Epoch 0:   4%|███▏                                                                   | 9/200 [00:27<09:49,  3.09s/it, loss=8.39, v_num=7]"
     ]
    },
    {
     "name": "stderr",
     "output_type": "stream",
     "text": [
      "/home/minhduc0711/miniconda3/envs/diffusion/lib/python3.7/site-packages/pytorch_lightning/trainer/call.py:48: UserWarning: Detected KeyboardInterrupt, attempting graceful shutdown...\n",
      "  rank_zero_warn(\"Detected KeyboardInterrupt, attempting graceful shutdown...\")\n"
     ]
    }
   ],
   "source": [
    "emsize = 768  # embedding dimension (of BERT)\n",
    "d_hid = 500  # dimension of the feedforward network model in nn.TransformerEncoder\n",
    "nlayers = 10  # number of nn.TransformerEncoderLayer in nn.TransformerEncoder\n",
    "nhead = 6  # number of heads in nn.MultiheadAttention\n",
    "dropout = 0.2  # dropout probability\n",
    "\n",
    "model = TransformerImg2Prompt(clip_model, bert_model,\n",
    "    emsize, nhead, d_hid, nlayers, dropout)\n",
    "\n",
    "logger = TensorBoardLogger(\"training_logs\", name=\"transformers\")\n",
    "ckpt_callback = ModelCheckpoint(dirpath=\"model_ckpts/transformers\",\n",
    "                                filename=\"epoch={epoch}-step={step}-val_loss={val/CE_loss:.6f}\",\n",
    "                                save_top_k=1,\n",
    "                                monitor=\"val/CE_loss\",\n",
    "                                mode=\"min\",\n",
    "                                auto_insert_metric_name=False)\n",
    "lr_monitor_callback = LearningRateMonitor(logging_interval='step')\n",
    "early_stop_callback = EarlyStopping(monitor=\"val/CE_loss\", \n",
    "                                    min_delta=0.01, patience=5, verbose=False, mode=\"min\")\n",
    "\n",
    "# NOTE: change accelerator if running on GPU\n",
    "trainer = pl.Trainer(max_epochs=100, accelerator=\"cpu\",\n",
    "                     logger=logger,\n",
    "                     log_every_n_steps=30,\n",
    "                     callbacks=[ckpt_callback, lr_monitor_callback, early_stop_callback])\n",
    "trainer.fit(model=model, datamodule=dm)"
   ]
  }
 ],
 "metadata": {
  "kernelspec": {
   "display_name": "Python [conda env:diffusion]",
   "language": "python",
   "name": "conda-env-diffusion-py"
  },
  "language_info": {
   "codemirror_mode": {
    "name": "ipython",
    "version": 3
   },
   "file_extension": ".py",
   "mimetype": "text/x-python",
   "name": "python",
   "nbconvert_exporter": "python",
   "pygments_lexer": "ipython3",
   "version": "3.7.15"
  }
 },
 "nbformat": 4,
 "nbformat_minor": 5
}
